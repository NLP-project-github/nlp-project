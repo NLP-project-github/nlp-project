{
 "cells": [
  {
   "cell_type": "code",
   "execution_count": 1,
   "id": "c9596614",
   "metadata": {},
   "outputs": [],
   "source": [
    "# from __future__ import division\n",
    "import itertools\n",
    "\n",
    "# To get rid of those blocks of red warnings\n",
    "import warnings\n",
    "warnings.filterwarnings(\"ignore\")\n",
    "\n",
    "# Standard Imports\n",
    "import numpy as np\n",
    "from scipy import stats\n",
    "import pandas as pd\n",
    "from math import sqrt\n",
    "import os\n",
    "from scipy.stats import spearmanr\n",
    "from sklearn import metrics\n",
    "from random import randint\n",
    "from typing import Dict, List, Optional, Union, cast\n",
    "from time import sleep\n",
    "\n",
    "# Vis Imports\n",
    "import matplotlib.pyplot as plt\n",
    "from matplotlib import style\n",
    "import seaborn as sns\n",
    "import plotly.express as px\n",
    "from pandas.plotting import register_matplotlib_converters\n",
    "from mpl_toolkits.mplot3d import Axes3D\n",
    "from wordcloud import WordCloud\n",
    "\n",
    "# Modeling Imports\n",
    "from sklearn.preprocessing import MinMaxScaler\n",
    "from sklearn.model_selection import train_test_split\n",
    "from sklearn.linear_model import LinearRegression, LassoLars, TweedieRegressor\n",
    "from sklearn.metrics import mean_squared_error, r2_score, explained_variance_score\n",
    "from sklearn.feature_selection import f_regression \n",
    "from sklearn.metrics import mean_squared_error\n",
    "from sklearn.preprocessing import PolynomialFeatures\n",
    "from sklearn.feature_selection import SelectKBest, f_regression, RFE\n",
    "import sklearn.preprocessing\n",
    "import statsmodels.api as sm\n",
    "from sklearn.cluster import DBSCAN\n",
    "\n",
    "# NLP Imports\n",
    "import unicodedata\n",
    "import re\n",
    "import json\n",
    "import requests\n",
    "from bs4 import BeautifulSoup\n",
    "import nltk\n",
    "from nltk.tokenize.toktok import ToktokTokenizer\n",
    "from nltk.corpus import stopwords\n",
    "\n",
    "# Custom Module Imports\n",
    "from env import github_token, github_username\n",
    "import acquire"
   ]
  },
  {
   "cell_type": "code",
   "execution_count": 2,
   "id": "b3b3554c",
   "metadata": {},
   "outputs": [],
   "source": [
    "# execfile('acquire.py')\n",
    "# df = open('data.json')\n",
    "# df = json.load(df)\n",
    "# df = pd.DataFrame(df)"
   ]
  },
  {
   "cell_type": "code",
   "execution_count": 3,
   "id": "b105c07d",
   "metadata": {},
   "outputs": [],
   "source": [
    "# df = pd.DataFrame(df)"
   ]
  },
  {
   "cell_type": "code",
   "execution_count": 4,
   "id": "0e5b71d2",
   "metadata": {},
   "outputs": [],
   "source": [
    "# df"
   ]
  },
  {
   "cell_type": "code",
   "execution_count": 5,
   "id": "40af09d3",
   "metadata": {},
   "outputs": [],
   "source": [
    "# url = 'https://github.com/search?l=&p=1&q=stars%3A%3E100&ref=advsearch&type=Repositories'\n",
    "\n"
   ]
  },
  {
   "cell_type": "code",
   "execution_count": 6,
   "id": "be561681",
   "metadata": {},
   "outputs": [],
   "source": [
    "# headers = {'User-Agent': 'Codeup Data Science'}\n",
    "# response = requests.get(url, headers=headers).content"
   ]
  },
  {
   "cell_type": "code",
   "execution_count": 7,
   "id": "3b9b71b5",
   "metadata": {},
   "outputs": [],
   "source": [
    "# soup = BeautifulSoup(response, 'html.parser')"
   ]
  },
  {
   "cell_type": "code",
   "execution_count": 8,
   "id": "888b4ab6",
   "metadata": {},
   "outputs": [],
   "source": [
    "# links = []\n",
    "# for link in soup.find_all('a', class_='v-align-middle'):\n",
    "#     links.append(link.text)"
   ]
  },
  {
   "cell_type": "code",
   "execution_count": 9,
   "id": "a2d19b84",
   "metadata": {},
   "outputs": [],
   "source": [
    "# 'https://github.com/search?l=&p=' + str(page) + '&q=stars%3A%3E100&ref=advsearch&type=Repositories'"
   ]
  },
  {
   "cell_type": "code",
   "execution_count": 10,
   "id": "a27c9c2e",
   "metadata": {},
   "outputs": [],
   "source": [
    "# list_rep = []\n",
    "\n",
    "# for i in range(1,10):\n",
    "#     response = requests.get('https://github.com/search?l=&p=' + str(i) + '&q=stars%3A%3E100&ref=advsearch&type=Repositories')\n",
    "#     soup = BeautifulSoup(response.content, 'html.parser')\n",
    "    \n",
    "#     for repo in soup.find_all('a', class_ = 'v-align-middle'):\n",
    "#         list_rep.append(repo.text)\n",
    "        \n",
    "# list_rep"
   ]
  },
  {
   "cell_type": "code",
   "execution_count": 11,
   "id": "bf9b1ca7",
   "metadata": {},
   "outputs": [],
   "source": [
    "# len(list_rep)"
   ]
  },
  {
   "cell_type": "code",
   "execution_count": 12,
   "id": "8fe28fd6",
   "metadata": {},
   "outputs": [],
   "source": [
    "# list_rep2 = []\n",
    "\n",
    "# for i in range(11,20):\n",
    "#     response = requests.get('https://github.com/search?l=&p=' + str(i) + '&q=stars%3A%3E100&ref=advsearch&type=Repositories')\n",
    "#     soup = BeautifulSoup(response.content, 'html.parser')\n",
    "    \n",
    "#     for repo in soup.find_all('a', class_ = 'v-align-middle'):\n",
    "#         list_rep2.append(repo.text)\n",
    "        \n",
    "# list_rep2"
   ]
  },
  {
   "cell_type": "code",
   "execution_count": 13,
   "id": "41f92db7",
   "metadata": {},
   "outputs": [],
   "source": [
    "# len(list_rep2)"
   ]
  },
  {
   "cell_type": "code",
   "execution_count": 14,
   "id": "b18ab12c",
   "metadata": {},
   "outputs": [],
   "source": [
    "# list_rep = []\n",
    "# for i in range(1,5):\n",
    "#     headers = {'User-Agent': github_username}\n",
    "#     sleep(randint(2,10))\n",
    "#     response = requests.get('https://github.com/search?l=&p=' + str(i) + '&q=stars%3A%3E100&ref=advsearch&type=Repositories', headers=headers)\n",
    "#     soup = BeautifulSoup(response.content, 'html.parser')\n",
    "#     for repo in soup.find_all('a', class_ = 'v-align-middle'):\n",
    "#         list_rep.append(repo.text)\n",
    "# list_rep2 = []\n",
    "# for i in range(6,11):\n",
    "#     headers = {'User-Agent': github_username}\n",
    "#     sleep(randint(2,10))\n",
    "#     response = requests.get('https://github.com/search?l=&p=' + str(i) + '&q=stars%3A%3E100&ref=advsearch&type=Repositories', headers=headers)\n",
    "#     soup = BeautifulSoup(response.content, 'html.parser')\n",
    "#     for repo in soup.find_all('a', class_ = 'v-align-middle'):\n",
    "#         list_rep2.append(repo.text)\n",
    "# full_list = list_rep + list_rep2\n",
    "# REPOS = full_list"
   ]
  },
  {
   "cell_type": "code",
   "execution_count": 15,
   "id": "010ad934",
   "metadata": {},
   "outputs": [],
   "source": [
    "# REPOS"
   ]
  },
  {
   "cell_type": "code",
   "execution_count": 16,
   "id": "ee93fda1",
   "metadata": {},
   "outputs": [],
   "source": [
    "# len(REPOS)"
   ]
  },
  {
   "cell_type": "code",
   "execution_count": 17,
   "id": "1eab11ac",
   "metadata": {},
   "outputs": [],
   "source": [
    "df = pd.read_csv('languages.csv')"
   ]
  },
  {
   "cell_type": "code",
   "execution_count": 18,
   "id": "eece886f",
   "metadata": {
    "scrolled": true
   },
   "outputs": [
    {
     "data": {
      "text/html": [
       "<div>\n",
       "<style scoped>\n",
       "    .dataframe tbody tr th:only-of-type {\n",
       "        vertical-align: middle;\n",
       "    }\n",
       "\n",
       "    .dataframe tbody tr th {\n",
       "        vertical-align: top;\n",
       "    }\n",
       "\n",
       "    .dataframe thead th {\n",
       "        text-align: right;\n",
       "    }\n",
       "</style>\n",
       "<table border=\"1\" class=\"dataframe\">\n",
       "  <thead>\n",
       "    <tr style=\"text-align: right;\">\n",
       "      <th></th>\n",
       "      <th>Unnamed: 0</th>\n",
       "      <th>repo</th>\n",
       "      <th>language</th>\n",
       "      <th>readme_contents</th>\n",
       "    </tr>\n",
       "  </thead>\n",
       "  <tbody>\n",
       "    <tr>\n",
       "      <th>0</th>\n",
       "      <td>0</td>\n",
       "      <td>twbs/bootstrap</td>\n",
       "      <td>JavaScript</td>\n",
       "      <td>&lt;p align=\"center\"&gt;\\n  &lt;a href=\"https://getboot...</td>\n",
       "    </tr>\n",
       "  </tbody>\n",
       "</table>\n",
       "</div>"
      ],
      "text/plain": [
       "   Unnamed: 0            repo    language  \\\n",
       "0           0  twbs/bootstrap  JavaScript   \n",
       "\n",
       "                                     readme_contents  \n",
       "0  <p align=\"center\">\\n  <a href=\"https://getboot...  "
      ]
     },
     "execution_count": 18,
     "metadata": {},
     "output_type": "execute_result"
    }
   ],
   "source": [
    "df.head(1)"
   ]
  },
  {
   "cell_type": "code",
   "execution_count": 19,
   "id": "7c69ac1f",
   "metadata": {},
   "outputs": [
    {
     "data": {
      "text/html": [
       "<div>\n",
       "<style scoped>\n",
       "    .dataframe tbody tr th:only-of-type {\n",
       "        vertical-align: middle;\n",
       "    }\n",
       "\n",
       "    .dataframe tbody tr th {\n",
       "        vertical-align: top;\n",
       "    }\n",
       "\n",
       "    .dataframe thead th {\n",
       "        text-align: right;\n",
       "    }\n",
       "</style>\n",
       "<table border=\"1\" class=\"dataframe\">\n",
       "  <thead>\n",
       "    <tr style=\"text-align: right;\">\n",
       "      <th></th>\n",
       "      <th>repo</th>\n",
       "      <th>language</th>\n",
       "      <th>readme_contents</th>\n",
       "    </tr>\n",
       "  </thead>\n",
       "  <tbody>\n",
       "    <tr>\n",
       "      <th>0</th>\n",
       "      <td>twbs/bootstrap</td>\n",
       "      <td>JavaScript</td>\n",
       "      <td>&lt;p align=\"center\"&gt;\\n  &lt;a href=\"https://getboot...</td>\n",
       "    </tr>\n",
       "  </tbody>\n",
       "</table>\n",
       "</div>"
      ],
      "text/plain": [
       "             repo    language  \\\n",
       "0  twbs/bootstrap  JavaScript   \n",
       "\n",
       "                                     readme_contents  \n",
       "0  <p align=\"center\">\\n  <a href=\"https://getboot...  "
      ]
     },
     "execution_count": 19,
     "metadata": {},
     "output_type": "execute_result"
    }
   ],
   "source": [
    "df = df.iloc[: , 1:]\n",
    "df.head(1)"
   ]
  },
  {
   "cell_type": "code",
   "execution_count": 20,
   "id": "89de810e",
   "metadata": {},
   "outputs": [
    {
     "data": {
      "text/plain": [
       "(160, 3)"
      ]
     },
     "execution_count": 20,
     "metadata": {},
     "output_type": "execute_result"
    }
   ],
   "source": [
    "df.shape"
   ]
  },
  {
   "cell_type": "code",
   "execution_count": 21,
   "id": "6d7a8201",
   "metadata": {},
   "outputs": [
    {
     "data": {
      "text/html": [
       "<div>\n",
       "<style scoped>\n",
       "    .dataframe tbody tr th:only-of-type {\n",
       "        vertical-align: middle;\n",
       "    }\n",
       "\n",
       "    .dataframe tbody tr th {\n",
       "        vertical-align: top;\n",
       "    }\n",
       "\n",
       "    .dataframe thead th {\n",
       "        text-align: right;\n",
       "    }\n",
       "</style>\n",
       "<table border=\"1\" class=\"dataframe\">\n",
       "  <thead>\n",
       "    <tr style=\"text-align: right;\">\n",
       "      <th></th>\n",
       "      <th>repo</th>\n",
       "      <th>language</th>\n",
       "      <th>readme_contents</th>\n",
       "    </tr>\n",
       "  </thead>\n",
       "  <tbody>\n",
       "    <tr>\n",
       "      <th>0</th>\n",
       "      <td>twbs/bootstrap</td>\n",
       "      <td>JavaScript</td>\n",
       "      <td>&lt;p align=\"center\"&gt;\\n  &lt;a href=\"https://getboot...</td>\n",
       "    </tr>\n",
       "    <tr>\n",
       "      <th>1</th>\n",
       "      <td>nightscout/cgm-remote-monitor</td>\n",
       "      <td>JavaScript</td>\n",
       "      <td>Nightscout Web Monitor (a.k.a. cgm-remote-moni...</td>\n",
       "    </tr>\n",
       "    <tr>\n",
       "      <th>2</th>\n",
       "      <td>github/docs</td>\n",
       "      <td>JavaScript</td>\n",
       "      <td># GitHub Docs &lt;!-- omit in toc --&gt; \\n\\nThis re...</td>\n",
       "    </tr>\n",
       "    <tr>\n",
       "      <th>3</th>\n",
       "      <td>facebook/react</td>\n",
       "      <td>JavaScript</td>\n",
       "      <td># [React](https://reactjs.org/) &amp;middot; [![Gi...</td>\n",
       "    </tr>\n",
       "    <tr>\n",
       "      <th>4</th>\n",
       "      <td>RedHatTraining/DO180-apps</td>\n",
       "      <td>JavaScript</td>\n",
       "      <td># DO180-apps\\nDO180 Repository for Sample Appl...</td>\n",
       "    </tr>\n",
       "  </tbody>\n",
       "</table>\n",
       "</div>"
      ],
      "text/plain": [
       "                            repo    language  \\\n",
       "0                 twbs/bootstrap  JavaScript   \n",
       "1  nightscout/cgm-remote-monitor  JavaScript   \n",
       "2                    github/docs  JavaScript   \n",
       "3                 facebook/react  JavaScript   \n",
       "4      RedHatTraining/DO180-apps  JavaScript   \n",
       "\n",
       "                                     readme_contents  \n",
       "0  <p align=\"center\">\\n  <a href=\"https://getboot...  \n",
       "1  Nightscout Web Monitor (a.k.a. cgm-remote-moni...  \n",
       "2  # GitHub Docs <!-- omit in toc --> \\n\\nThis re...  \n",
       "3  # [React](https://reactjs.org/) &middot; [![Gi...  \n",
       "4  # DO180-apps\\nDO180 Repository for Sample Appl...  "
      ]
     },
     "execution_count": 21,
     "metadata": {},
     "output_type": "execute_result"
    }
   ],
   "source": [
    "df.head()"
   ]
  },
  {
   "cell_type": "code",
   "execution_count": 22,
   "id": "e0742194",
   "metadata": {},
   "outputs": [
    {
     "data": {
      "text/plain": [
       "0"
      ]
     },
     "execution_count": 22,
     "metadata": {},
     "output_type": "execute_result"
    }
   ],
   "source": [
    "df.language.isnull().sum()"
   ]
  },
  {
   "cell_type": "code",
   "execution_count": 23,
   "id": "7a895911",
   "metadata": {},
   "outputs": [],
   "source": [
    "df = df.dropna()"
   ]
  },
  {
   "cell_type": "code",
   "execution_count": 24,
   "id": "9e6beff5",
   "metadata": {},
   "outputs": [
    {
     "data": {
      "text/plain": [
       "(159, 3)"
      ]
     },
     "execution_count": 24,
     "metadata": {},
     "output_type": "execute_result"
    }
   ],
   "source": [
    "df.shape"
   ]
  },
  {
   "cell_type": "code",
   "execution_count": 25,
   "id": "94f3f11d",
   "metadata": {},
   "outputs": [
    {
     "data": {
      "text/html": [
       "<div>\n",
       "<style scoped>\n",
       "    .dataframe tbody tr th:only-of-type {\n",
       "        vertical-align: middle;\n",
       "    }\n",
       "\n",
       "    .dataframe tbody tr th {\n",
       "        vertical-align: top;\n",
       "    }\n",
       "\n",
       "    .dataframe thead th {\n",
       "        text-align: right;\n",
       "    }\n",
       "</style>\n",
       "<table border=\"1\" class=\"dataframe\">\n",
       "  <thead>\n",
       "    <tr style=\"text-align: right;\">\n",
       "      <th></th>\n",
       "      <th>repo</th>\n",
       "      <th>language</th>\n",
       "      <th>readme_contents</th>\n",
       "    </tr>\n",
       "  </thead>\n",
       "  <tbody>\n",
       "    <tr>\n",
       "      <th>0</th>\n",
       "      <td>twbs/bootstrap</td>\n",
       "      <td>JavaScript</td>\n",
       "      <td>&lt;p align=\"center\"&gt;\\n  &lt;a href=\"https://getboot...</td>\n",
       "    </tr>\n",
       "    <tr>\n",
       "      <th>1</th>\n",
       "      <td>nightscout/cgm-remote-monitor</td>\n",
       "      <td>JavaScript</td>\n",
       "      <td>Nightscout Web Monitor (a.k.a. cgm-remote-moni...</td>\n",
       "    </tr>\n",
       "    <tr>\n",
       "      <th>2</th>\n",
       "      <td>github/docs</td>\n",
       "      <td>JavaScript</td>\n",
       "      <td># GitHub Docs &lt;!-- omit in toc --&gt; \\n\\nThis re...</td>\n",
       "    </tr>\n",
       "    <tr>\n",
       "      <th>3</th>\n",
       "      <td>facebook/react</td>\n",
       "      <td>JavaScript</td>\n",
       "      <td># [React](https://reactjs.org/) &amp;middot; [![Gi...</td>\n",
       "    </tr>\n",
       "    <tr>\n",
       "      <th>4</th>\n",
       "      <td>RedHatTraining/DO180-apps</td>\n",
       "      <td>JavaScript</td>\n",
       "      <td># DO180-apps\\nDO180 Repository for Sample Appl...</td>\n",
       "    </tr>\n",
       "    <tr>\n",
       "      <th>...</th>\n",
       "      <td>...</td>\n",
       "      <td>...</td>\n",
       "      <td>...</td>\n",
       "    </tr>\n",
       "    <tr>\n",
       "      <th>155</th>\n",
       "      <td>mongodb/mongo</td>\n",
       "      <td>C++</td>\n",
       "      <td># ![Logo](docs/leaf.svg) MongoDB README\\n\\nWel...</td>\n",
       "    </tr>\n",
       "    <tr>\n",
       "      <th>156</th>\n",
       "      <td>ClickHouse/ClickHouse</td>\n",
       "      <td>C++</td>\n",
       "      <td>[![ClickHouse — open source distributed column...</td>\n",
       "    </tr>\n",
       "    <tr>\n",
       "      <th>157</th>\n",
       "      <td>ceph/ceph</td>\n",
       "      <td>C++</td>\n",
       "      <td>\\nLast updated: 2017-04-08\\n\\nThe FreeBSD buil...</td>\n",
       "    </tr>\n",
       "    <tr>\n",
       "      <th>158</th>\n",
       "      <td>facebook/folly</td>\n",
       "      <td>C++</td>\n",
       "      <td>Folly: Facebook Open-source Library\\n=========...</td>\n",
       "    </tr>\n",
       "    <tr>\n",
       "      <th>159</th>\n",
       "      <td>flutter/engine</td>\n",
       "      <td>C++</td>\n",
       "      <td>Flutter Engine\\n==============\\n\\n[![OpenSSF S...</td>\n",
       "    </tr>\n",
       "  </tbody>\n",
       "</table>\n",
       "<p>159 rows × 3 columns</p>\n",
       "</div>"
      ],
      "text/plain": [
       "                              repo    language  \\\n",
       "0                   twbs/bootstrap  JavaScript   \n",
       "1    nightscout/cgm-remote-monitor  JavaScript   \n",
       "2                      github/docs  JavaScript   \n",
       "3                   facebook/react  JavaScript   \n",
       "4        RedHatTraining/DO180-apps  JavaScript   \n",
       "..                             ...         ...   \n",
       "155                  mongodb/mongo         C++   \n",
       "156          ClickHouse/ClickHouse         C++   \n",
       "157                      ceph/ceph         C++   \n",
       "158                 facebook/folly         C++   \n",
       "159                 flutter/engine         C++   \n",
       "\n",
       "                                       readme_contents  \n",
       "0    <p align=\"center\">\\n  <a href=\"https://getboot...  \n",
       "1    Nightscout Web Monitor (a.k.a. cgm-remote-moni...  \n",
       "2    # GitHub Docs <!-- omit in toc --> \\n\\nThis re...  \n",
       "3    # [React](https://reactjs.org/) &middot; [![Gi...  \n",
       "4    # DO180-apps\\nDO180 Repository for Sample Appl...  \n",
       "..                                                 ...  \n",
       "155  # ![Logo](docs/leaf.svg) MongoDB README\\n\\nWel...  \n",
       "156  [![ClickHouse — open source distributed column...  \n",
       "157  \\nLast updated: 2017-04-08\\n\\nThe FreeBSD buil...  \n",
       "158  Folly: Facebook Open-source Library\\n=========...  \n",
       "159  Flutter Engine\\n==============\\n\\n[![OpenSSF S...  \n",
       "\n",
       "[159 rows x 3 columns]"
      ]
     },
     "execution_count": 25,
     "metadata": {},
     "output_type": "execute_result"
    }
   ],
   "source": [
    "df"
   ]
  },
  {
   "cell_type": "code",
   "execution_count": 26,
   "id": "c4c60c7d",
   "metadata": {},
   "outputs": [
    {
     "data": {
      "text/plain": [
       "JavaScript    0.251572\n",
       "Python        0.251572\n",
       "Java          0.251572\n",
       "C++           0.245283\n",
       "Name: language, dtype: float64"
      ]
     },
     "execution_count": 26,
     "metadata": {},
     "output_type": "execute_result"
    }
   ],
   "source": [
    "df.language.value_counts(normalize=True)"
   ]
  },
  {
   "cell_type": "code",
   "execution_count": 27,
   "id": "24c2b7b8",
   "metadata": {},
   "outputs": [],
   "source": [
    "# 'https://github.com/search?l=JavaScript&p=' + str(i) + '&q=stars%3A%3E100+language%3AJavaScript+language%3AJavaScript&ref=advsearch&type=Repositories'\n",
    "# 'https://github.com/search?l=Python&p=' + str(i) + '&q=stars%3A%3E100+language%3AJavaScript+language%3AJavaScript&type=Repositories'\n",
    "# 'https://github.com/search?l=Java&p=' + str(i) + '&q=stars%3A%3E100+language%3AJavaScript+language%3AJavaScript&type=Repositories'\n",
    "# 'https://github.com/search?l=C%2B%2B&p=' + str(i) + '&q=stars%3A%3E100+language%3AJavaScript+language%3AJavaScript&type=Repositories'\n",
    "\n"
   ]
  },
  {
   "cell_type": "code",
   "execution_count": 28,
   "id": "97b49f6b",
   "metadata": {},
   "outputs": [],
   "source": [
    "# list_rep = []\n",
    "# for i in range(1,6):\n",
    "#     headers = {'User-Agent': github_username}\n",
    "#     sleep(randint(2,10))\n",
    "#     response = requests.get('https://github.com/search?l=JavaScript&p=' + str(i) + '&q=stars%3A%3E100+language%3AJavaScript+language%3AJavaScript&ref=advsearch&type=Repositories', headers=headers)\n",
    "#     soup = BeautifulSoup(response.content, 'html.parser')\n",
    "#     for repo in soup.find_all('a', class_ = 'v-align-middle'):\n",
    "#         list_rep.append(repo.text)\n",
    "# list_rep2 = []\n",
    "# for i in range(1,6):\n",
    "#     headers = {'User-Agent': github_username}\n",
    "#     sleep(randint(2,10))\n",
    "#     response = requests.get('https://github.com/search?l=Python&p=' + str(i) + '&q=stars%3A%3E100+language%3AJavaScript+language%3AJavaScript&type=Repositories', headers=headers)\n",
    "#     soup = BeautifulSoup(response.content, 'html.parser')\n",
    "#     for repo in soup.find_all('a', class_ = 'v-align-middle'):\n",
    "#         list_rep2.append(repo.text)\n",
    "# list_rep3 = []\n",
    "# for i in range(1,6):\n",
    "#     headers = {'User-Agent': github_username}\n",
    "#     sleep(randint(2,10))\n",
    "#     response = requests.get('https://github.com/search?l=Java&p=' + str(i) + '&q=stars%3A%3E100+language%3AJavaScript+language%3AJavaScript&type=Repositories', headers=headers)\n",
    "#     soup = BeautifulSoup(response.content, 'html.parser')\n",
    "#     for repo in soup.find_all('a', class_ = 'v-align-middle'):\n",
    "#         list_rep3.append(repo.text)\n",
    "# list_rep4 = []\n",
    "# for i in range(1,6):\n",
    "#     headers = {'User-Agent': github_username}\n",
    "#     sleep(randint(2,10))\n",
    "#     response = requests.get('https://github.com/search?l=C%2B%2B&p=' + str(i) + '&q=stars%3A%3E100+language%3AJavaScript+language%3AJavaScript&type=Repositories', headers=headers)\n",
    "#     soup = BeautifulSoup(response.content, 'html.parser')\n",
    "#     for repo in soup.find_all('a', class_ = 'v-align-middle'):\n",
    "#         list_rep4.append(repo.text)\n",
    "# full_list = list_rep + list_rep2 + list_rep3 + list_rep4\n",
    "# REPOS = full_list"
   ]
  },
  {
   "cell_type": "code",
   "execution_count": 35,
   "id": "d9e9b7ce",
   "metadata": {},
   "outputs": [],
   "source": [
    "original = df"
   ]
  },
  {
   "cell_type": "code",
   "execution_count": 29,
   "id": "1a315d5b",
   "metadata": {},
   "outputs": [],
   "source": [
    "def basic_clean(original):\n",
    "    article = original.lower()\n",
    "    article = unicodedata.normalize('NFKD', article)\\\n",
    "    .encode('ascii', 'ignore')\\\n",
    "    .decode('utf-8')\n",
    "    #use re.sub to remove special characters\n",
    "    article = re.sub(r'[^a-z0-9\\'\\s]', '', article)\n",
    "    return article"
   ]
  },
  {
   "cell_type": "code",
   "execution_count": 30,
   "id": "c27de51c",
   "metadata": {},
   "outputs": [],
   "source": [
    "def tokenize(article):\n",
    "    #create the tokenizer\n",
    "    tokenize = nltk.tokenize.ToktokTokenizer()\n",
    "    #use the tokenizer\n",
    "    article = tokenize.tokenize(article, return_str=True)\n",
    "    return article"
   ]
  },
  {
   "cell_type": "code",
   "execution_count": 31,
   "id": "b306735e",
   "metadata": {},
   "outputs": [],
   "source": [
    "def stem(article):\n",
    "    #create porter stemmer\n",
    "    ps = nltk.porter.PorterStemmer()\n",
    "    stems = [ps.stem(word) for word in article.split()]\n",
    "    #join words back together\n",
    "    article_stemmed = ' '.join(stems)\n",
    "    return article_stemmed"
   ]
  },
  {
   "cell_type": "code",
   "execution_count": 32,
   "id": "273cb20c",
   "metadata": {},
   "outputs": [],
   "source": [
    "def lemmatize(article):\n",
    "    #create the lemmatizer\n",
    "    wnl = nltk.stem.WordNetLemmatizer()\n",
    "    lemmas = [wnl.lemmatize(word) for word in article.split()]\n",
    "    #join words back together\n",
    "    article_lemmatized = ' '.join(lemmas)\n",
    "    return article_lemmatized"
   ]
  },
  {
   "cell_type": "code",
   "execution_count": 33,
   "id": "c76fd6c3",
   "metadata": {},
   "outputs": [],
   "source": [
    "def remove_stopwords(article):\n",
    "    #save stopwords\n",
    "    stopwords_ls = stopwords.words('english')\n",
    "    words = article.split()\n",
    "    #remove stopwords from list of words\n",
    "    filtered_words = [word for word in words if word not in stopwords_ls]\n",
    "    #join words back together\n",
    "    article = ' '.join(filtered_words)\n",
    "    return article"
   ]
  },
  {
   "cell_type": "code",
   "execution_count": 37,
   "id": "f5c7b85c",
   "metadata": {},
   "outputs": [],
   "source": [
    "def prepare_article(original):\n",
    "    original['clean'] = original['readme_contents'].apply(basic_clean).apply(tokenize).apply(remove_stopwords)\n",
    "    original['stemmed'] = original['readme_contents'].apply(basic_clean).apply(tokenize).apply(remove_stopwords).apply(stem)\n",
    "    original['lemmatized'] = original['readme_contents'].apply(basic_clean).apply(tokenize).apply(remove_stopwords).apply(lemmatize)\n",
    "    original.rename(columns = {'readme_contents':'original'}, inplace = True)\n",
    "    return original"
   ]
  },
  {
   "cell_type": "code",
   "execution_count": 38,
   "id": "43c310f0",
   "metadata": {},
   "outputs": [],
   "source": [
    "df = prepare_article(original)"
   ]
  },
  {
   "cell_type": "code",
   "execution_count": 39,
   "id": "b8566a70",
   "metadata": {},
   "outputs": [
    {
     "data": {
      "text/html": [
       "<div>\n",
       "<style scoped>\n",
       "    .dataframe tbody tr th:only-of-type {\n",
       "        vertical-align: middle;\n",
       "    }\n",
       "\n",
       "    .dataframe tbody tr th {\n",
       "        vertical-align: top;\n",
       "    }\n",
       "\n",
       "    .dataframe thead th {\n",
       "        text-align: right;\n",
       "    }\n",
       "</style>\n",
       "<table border=\"1\" class=\"dataframe\">\n",
       "  <thead>\n",
       "    <tr style=\"text-align: right;\">\n",
       "      <th></th>\n",
       "      <th>repo</th>\n",
       "      <th>language</th>\n",
       "      <th>original</th>\n",
       "      <th>clean</th>\n",
       "      <th>stemmed</th>\n",
       "      <th>lemmatized</th>\n",
       "    </tr>\n",
       "  </thead>\n",
       "  <tbody>\n",
       "    <tr>\n",
       "      <th>0</th>\n",
       "      <td>twbs/bootstrap</td>\n",
       "      <td>JavaScript</td>\n",
       "      <td>&lt;p align=\"center\"&gt;\\n  &lt;a href=\"https://getboot...</td>\n",
       "      <td>p aligncenter hrefhttpsgetbootstrapcom img src...</td>\n",
       "      <td>p aligncent hrefhttpsgetbootstrapcom img srcht...</td>\n",
       "      <td>p aligncenter hrefhttpsgetbootstrapcom img src...</td>\n",
       "    </tr>\n",
       "    <tr>\n",
       "      <th>1</th>\n",
       "      <td>nightscout/cgm-remote-monitor</td>\n",
       "      <td>JavaScript</td>\n",
       "      <td>Nightscout Web Monitor (a.k.a. cgm-remote-moni...</td>\n",
       "      <td>nightscout web monitor aka cgmremotemonitor ni...</td>\n",
       "      <td>nightscout web monitor aka cgmremotemonitor ni...</td>\n",
       "      <td>nightscout web monitor aka cgmremotemonitor ni...</td>\n",
       "    </tr>\n",
       "    <tr>\n",
       "      <th>2</th>\n",
       "      <td>github/docs</td>\n",
       "      <td>JavaScript</td>\n",
       "      <td># GitHub Docs &lt;!-- omit in toc --&gt; \\n\\nThis re...</td>\n",
       "      <td>github docs omit toc repository contains docum...</td>\n",
       "      <td>github doc omit toc repositori contain documen...</td>\n",
       "      <td>github doc omit toc repository contains docume...</td>\n",
       "    </tr>\n",
       "    <tr>\n",
       "      <th>3</th>\n",
       "      <td>facebook/react</td>\n",
       "      <td>JavaScript</td>\n",
       "      <td># [React](https://reactjs.org/) &amp;middot; [![Gi...</td>\n",
       "      <td>reacthttpsreactjsorg middot github licensehttp...</td>\n",
       "      <td>reacthttpsreactjsorg middot github licensehttp...</td>\n",
       "      <td>reacthttpsreactjsorg middot github licensehttp...</td>\n",
       "    </tr>\n",
       "    <tr>\n",
       "      <th>4</th>\n",
       "      <td>RedHatTraining/DO180-apps</td>\n",
       "      <td>JavaScript</td>\n",
       "      <td># DO180-apps\\nDO180 Repository for Sample Appl...</td>\n",
       "      <td>do180apps do180 repository sample applications</td>\n",
       "      <td>do180app do180 repositori sampl applic</td>\n",
       "      <td>do180apps do180 repository sample application</td>\n",
       "    </tr>\n",
       "    <tr>\n",
       "      <th>...</th>\n",
       "      <td>...</td>\n",
       "      <td>...</td>\n",
       "      <td>...</td>\n",
       "      <td>...</td>\n",
       "      <td>...</td>\n",
       "      <td>...</td>\n",
       "    </tr>\n",
       "    <tr>\n",
       "      <th>155</th>\n",
       "      <td>mongodb/mongo</td>\n",
       "      <td>C++</td>\n",
       "      <td># ![Logo](docs/leaf.svg) MongoDB README\\n\\nWel...</td>\n",
       "      <td>logodocsleafsvg mongodb readme welcome mongodb...</td>\n",
       "      <td>logodocsleafsvg mongodb readm welcom mongodb c...</td>\n",
       "      <td>logodocsleafsvg mongodb readme welcome mongodb...</td>\n",
       "    </tr>\n",
       "    <tr>\n",
       "      <th>156</th>\n",
       "      <td>ClickHouse/ClickHouse</td>\n",
       "      <td>C++</td>\n",
       "      <td>[![ClickHouse — open source distributed column...</td>\n",
       "      <td>clickhouse open source distributed columnorien...</td>\n",
       "      <td>clickhous open sourc distribut columnori dbmsh...</td>\n",
       "      <td>clickhouse open source distributed columnorien...</td>\n",
       "    </tr>\n",
       "    <tr>\n",
       "      <th>157</th>\n",
       "      <td>ceph/ceph</td>\n",
       "      <td>C++</td>\n",
       "      <td>\\nLast updated: 2017-04-08\\n\\nThe FreeBSD buil...</td>\n",
       "      <td>last updated 20170408 freebsd build build tool...</td>\n",
       "      <td>last updat 20170408 freebsd build build tool c...</td>\n",
       "      <td>last updated 20170408 freebsd build build tool...</td>\n",
       "    </tr>\n",
       "    <tr>\n",
       "      <th>158</th>\n",
       "      <td>facebook/folly</td>\n",
       "      <td>C++</td>\n",
       "      <td>Folly: Facebook Open-source Library\\n=========...</td>\n",
       "      <td>folly facebook opensource library hrefhttpsope...</td>\n",
       "      <td>folli facebook opensourc librari hrefhttpsopen...</td>\n",
       "      <td>folly facebook opensource library hrefhttpsope...</td>\n",
       "    </tr>\n",
       "    <tr>\n",
       "      <th>159</th>\n",
       "      <td>flutter/engine</td>\n",
       "      <td>C++</td>\n",
       "      <td>Flutter Engine\\n==============\\n\\n[![OpenSSF S...</td>\n",
       "      <td>flutter engine openssf scorecardhttpsapisecuri...</td>\n",
       "      <td>flutter engin openssf scorecardhttpsapisecurit...</td>\n",
       "      <td>flutter engine openssf scorecardhttpsapisecuri...</td>\n",
       "    </tr>\n",
       "  </tbody>\n",
       "</table>\n",
       "<p>159 rows × 6 columns</p>\n",
       "</div>"
      ],
      "text/plain": [
       "                              repo    language  \\\n",
       "0                   twbs/bootstrap  JavaScript   \n",
       "1    nightscout/cgm-remote-monitor  JavaScript   \n",
       "2                      github/docs  JavaScript   \n",
       "3                   facebook/react  JavaScript   \n",
       "4        RedHatTraining/DO180-apps  JavaScript   \n",
       "..                             ...         ...   \n",
       "155                  mongodb/mongo         C++   \n",
       "156          ClickHouse/ClickHouse         C++   \n",
       "157                      ceph/ceph         C++   \n",
       "158                 facebook/folly         C++   \n",
       "159                 flutter/engine         C++   \n",
       "\n",
       "                                              original  \\\n",
       "0    <p align=\"center\">\\n  <a href=\"https://getboot...   \n",
       "1    Nightscout Web Monitor (a.k.a. cgm-remote-moni...   \n",
       "2    # GitHub Docs <!-- omit in toc --> \\n\\nThis re...   \n",
       "3    # [React](https://reactjs.org/) &middot; [![Gi...   \n",
       "4    # DO180-apps\\nDO180 Repository for Sample Appl...   \n",
       "..                                                 ...   \n",
       "155  # ![Logo](docs/leaf.svg) MongoDB README\\n\\nWel...   \n",
       "156  [![ClickHouse — open source distributed column...   \n",
       "157  \\nLast updated: 2017-04-08\\n\\nThe FreeBSD buil...   \n",
       "158  Folly: Facebook Open-source Library\\n=========...   \n",
       "159  Flutter Engine\\n==============\\n\\n[![OpenSSF S...   \n",
       "\n",
       "                                                 clean  \\\n",
       "0    p aligncenter hrefhttpsgetbootstrapcom img src...   \n",
       "1    nightscout web monitor aka cgmremotemonitor ni...   \n",
       "2    github docs omit toc repository contains docum...   \n",
       "3    reacthttpsreactjsorg middot github licensehttp...   \n",
       "4       do180apps do180 repository sample applications   \n",
       "..                                                 ...   \n",
       "155  logodocsleafsvg mongodb readme welcome mongodb...   \n",
       "156  clickhouse open source distributed columnorien...   \n",
       "157  last updated 20170408 freebsd build build tool...   \n",
       "158  folly facebook opensource library hrefhttpsope...   \n",
       "159  flutter engine openssf scorecardhttpsapisecuri...   \n",
       "\n",
       "                                               stemmed  \\\n",
       "0    p aligncent hrefhttpsgetbootstrapcom img srcht...   \n",
       "1    nightscout web monitor aka cgmremotemonitor ni...   \n",
       "2    github doc omit toc repositori contain documen...   \n",
       "3    reacthttpsreactjsorg middot github licensehttp...   \n",
       "4               do180app do180 repositori sampl applic   \n",
       "..                                                 ...   \n",
       "155  logodocsleafsvg mongodb readm welcom mongodb c...   \n",
       "156  clickhous open sourc distribut columnori dbmsh...   \n",
       "157  last updat 20170408 freebsd build build tool c...   \n",
       "158  folli facebook opensourc librari hrefhttpsopen...   \n",
       "159  flutter engin openssf scorecardhttpsapisecurit...   \n",
       "\n",
       "                                            lemmatized  \n",
       "0    p aligncenter hrefhttpsgetbootstrapcom img src...  \n",
       "1    nightscout web monitor aka cgmremotemonitor ni...  \n",
       "2    github doc omit toc repository contains docume...  \n",
       "3    reacthttpsreactjsorg middot github licensehttp...  \n",
       "4        do180apps do180 repository sample application  \n",
       "..                                                 ...  \n",
       "155  logodocsleafsvg mongodb readme welcome mongodb...  \n",
       "156  clickhouse open source distributed columnorien...  \n",
       "157  last updated 20170408 freebsd build build tool...  \n",
       "158  folly facebook opensource library hrefhttpsope...  \n",
       "159  flutter engine openssf scorecardhttpsapisecuri...  \n",
       "\n",
       "[159 rows x 6 columns]"
      ]
     },
     "execution_count": 39,
     "metadata": {},
     "output_type": "execute_result"
    }
   ],
   "source": [
    "df"
   ]
  },
  {
   "cell_type": "code",
   "execution_count": null,
   "id": "bb31cdf0",
   "metadata": {},
   "outputs": [],
   "source": []
  }
 ],
 "metadata": {
  "kernelspec": {
   "display_name": "Python 3 (ipykernel)",
   "language": "python",
   "name": "python3"
  },
  "language_info": {
   "codemirror_mode": {
    "name": "ipython",
    "version": 3
   },
   "file_extension": ".py",
   "mimetype": "text/x-python",
   "name": "python",
   "nbconvert_exporter": "python",
   "pygments_lexer": "ipython3",
   "version": "3.9.12"
  }
 },
 "nbformat": 4,
 "nbformat_minor": 5
}
