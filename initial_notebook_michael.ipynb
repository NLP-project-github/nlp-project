{
 "cells": [
  {
   "cell_type": "code",
   "execution_count": 63,
   "id": "a9585137",
   "metadata": {},
   "outputs": [],
   "source": [
    "# from __future__ import division\n",
    "import itertools\n",
    "\n",
    "# To get rid of those blocks of red warnings\n",
    "import warnings\n",
    "warnings.filterwarnings(\"ignore\")\n",
    "\n",
    "# Standard Imports\n",
    "import numpy as np\n",
    "from scipy import stats\n",
    "import pandas as pd\n",
    "from math import sqrt\n",
    "import os\n",
    "from scipy.stats import spearmanr\n",
    "from sklearn import metrics\n",
    "from random import randint\n",
    "from typing import Dict, List, Optional, Union, cast\n",
    "from time import sleep\n",
    "\n",
    "# Vis Imports\n",
    "import matplotlib.pyplot as plt\n",
    "from matplotlib import style\n",
    "import seaborn as sns\n",
    "import plotly.express as px\n",
    "from pandas.plotting import register_matplotlib_converters\n",
    "from mpl_toolkits.mplot3d import Axes3D\n",
    "from wordcloud import WordCloud\n",
    "\n",
    "# Modeling Imports\n",
    "from sklearn.preprocessing import MinMaxScaler\n",
    "from sklearn.model_selection import train_test_split\n",
    "from sklearn.linear_model import LinearRegression, LassoLars, TweedieRegressor\n",
    "from sklearn.metrics import mean_squared_error, r2_score, explained_variance_score\n",
    "from sklearn.feature_selection import f_regression \n",
    "from sklearn.metrics import mean_squared_error\n",
    "from sklearn.preprocessing import PolynomialFeatures\n",
    "from sklearn.feature_selection import SelectKBest, f_regression, RFE\n",
    "import sklearn.preprocessing\n",
    "import statsmodels.api as sm\n",
    "from sklearn.cluster import DBSCAN\n",
    "\n",
    "# NLP Imports\n",
    "import unicodedata\n",
    "import re\n",
    "import json\n",
    "import requests\n",
    "from bs4 import BeautifulSoup\n",
    "import nltk\n",
    "from nltk.tokenize.toktok import ToktokTokenizer\n",
    "from nltk.corpus import stopwords\n",
    "\n",
    "# Custom Module Imports\n",
    "from env import github_token, github_username\n",
    "import acquire"
   ]
  },
  {
   "cell_type": "code",
   "execution_count": 2,
   "id": "fd38becf",
   "metadata": {},
   "outputs": [],
   "source": [
    "execfile('acquire.py')\n",
    "df = open('data.json')\n",
    "df = json.load(df)\n",
    "df = pd.DataFrame(df)"
   ]
  },
  {
   "cell_type": "code",
   "execution_count": 3,
   "id": "4d228c34",
   "metadata": {},
   "outputs": [],
   "source": [
    "df = pd.DataFrame(df)"
   ]
  },
  {
   "cell_type": "code",
   "execution_count": 4,
   "id": "c575c5e6",
   "metadata": {},
   "outputs": [
    {
     "data": {
      "text/html": [
       "<div>\n",
       "<style scoped>\n",
       "    .dataframe tbody tr th:only-of-type {\n",
       "        vertical-align: middle;\n",
       "    }\n",
       "\n",
       "    .dataframe tbody tr th {\n",
       "        vertical-align: top;\n",
       "    }\n",
       "\n",
       "    .dataframe thead th {\n",
       "        text-align: right;\n",
       "    }\n",
       "</style>\n",
       "<table border=\"1\" class=\"dataframe\">\n",
       "  <thead>\n",
       "    <tr style=\"text-align: right;\">\n",
       "      <th></th>\n",
       "      <th>repo</th>\n",
       "      <th>language</th>\n",
       "      <th>readme_contents</th>\n",
       "    </tr>\n",
       "  </thead>\n",
       "  <tbody>\n",
       "    <tr>\n",
       "      <th>0</th>\n",
       "      <td>gocodeup/codeup-setup-script</td>\n",
       "      <td>Shell</td>\n",
       "      <td># Codeup Setup Script\\n\\nSetup script for Code...</td>\n",
       "    </tr>\n",
       "    <tr>\n",
       "      <th>1</th>\n",
       "      <td>gocodeup/movies-application</td>\n",
       "      <td>JavaScript</td>\n",
       "      <td># Movies Application\\n\\nFor this project, we w...</td>\n",
       "    </tr>\n",
       "    <tr>\n",
       "      <th>2</th>\n",
       "      <td>torvalds/linux</td>\n",
       "      <td>C</td>\n",
       "      <td>Linux kernel\\n============\\n\\nThere are severa...</td>\n",
       "    </tr>\n",
       "  </tbody>\n",
       "</table>\n",
       "</div>"
      ],
      "text/plain": [
       "                           repo    language  \\\n",
       "0  gocodeup/codeup-setup-script       Shell   \n",
       "1   gocodeup/movies-application  JavaScript   \n",
       "2                torvalds/linux           C   \n",
       "\n",
       "                                     readme_contents  \n",
       "0  # Codeup Setup Script\\n\\nSetup script for Code...  \n",
       "1  # Movies Application\\n\\nFor this project, we w...  \n",
       "2  Linux kernel\\n============\\n\\nThere are severa...  "
      ]
     },
     "execution_count": 4,
     "metadata": {},
     "output_type": "execute_result"
    }
   ],
   "source": [
    "df"
   ]
  },
  {
   "cell_type": "code",
   "execution_count": 5,
   "id": "1327b78c",
   "metadata": {},
   "outputs": [],
   "source": [
    "url = 'https://github.com/search?l=&p=1&q=stars%3A%3E100&ref=advsearch&type=Repositories'\n",
    "\n"
   ]
  },
  {
   "cell_type": "code",
   "execution_count": 6,
   "id": "371ff36f",
   "metadata": {},
   "outputs": [],
   "source": [
    "headers = {'User-Agent': 'Codeup Data Science'}\n",
    "response = requests.get(url, headers=headers).content"
   ]
  },
  {
   "cell_type": "code",
   "execution_count": 7,
   "id": "7972dffc",
   "metadata": {},
   "outputs": [],
   "source": [
    "soup = BeautifulSoup(response, 'html.parser')"
   ]
  },
  {
   "cell_type": "code",
   "execution_count": 8,
   "id": "e59e0415",
   "metadata": {},
   "outputs": [],
   "source": [
    "links = []\n",
    "for link in soup.find_all('a', class_='v-align-middle'):\n",
    "    links.append(link.text)"
   ]
  },
  {
   "cell_type": "code",
   "execution_count": 9,
   "id": "f4a24685",
   "metadata": {},
   "outputs": [],
   "source": [
    "# 'https://github.com/search?l=&p=' + str(page) + '&q=stars%3A%3E100&ref=advsearch&type=Repositories'"
   ]
  },
  {
   "cell_type": "code",
   "execution_count": 58,
   "id": "0c467a11",
   "metadata": {},
   "outputs": [
    {
     "data": {
      "text/plain": [
       "['freeCodeCamp/freeCodeCamp',\n",
       " '996icu/996.ICU',\n",
       " 'EbookFoundation/free-programming-books',\n",
       " 'jwasham/coding-interview-university',\n",
       " 'sindresorhus/awesome',\n",
       " 'kamranahmedse/developer-roadmap',\n",
       " 'public-apis/public-apis',\n",
       " 'donnemartin/system-design-primer',\n",
       " 'vuejs/vue',\n",
       " 'facebook/react',\n",
       " 'tensorflow/tensorflow',\n",
       " 'codecrafters-io/build-your-own-x',\n",
       " 'getify/You-Dont-Know-JS',\n",
       " 'twbs/bootstrap',\n",
       " 'CyC2018/CS-Notes',\n",
       " 'trekhleb/javascript-algorithms',\n",
       " 'ohmyzsh/ohmyzsh',\n",
       " 'TheAlgorithms/Python',\n",
       " 'flutter/flutter',\n",
       " 'vinta/awesome-python',\n",
       " 'torvalds/linux',\n",
       " 'github/gitignore',\n",
       " 'microsoft/vscode',\n",
       " 'Snailclimb/JavaGuide',\n",
       " 'airbnb/javascript',\n",
       " 'jackfrued/Python-100-Days',\n",
       " 'ossu/computer-science',\n",
       " 'ytdl-org/youtube-dl',\n",
       " 'jlevy/the-art-of-command-line',\n",
       " 'labuladong/fucking-algorithm',\n",
       " 'awesome-selfhosted/awesome-selfhosted',\n",
       " 'facebook/react-native',\n",
       " 'golang/go',\n",
       " 'electron/electron',\n",
       " '30-seconds/30-seconds-of-code',\n",
       " 'd3/d3',\n",
       " 'facebook/create-react-app',\n",
       " 'axios/axios',\n",
       " 'justjavac/free-programming-books-zh_CN',\n",
       " 'vercel/next.js',\n",
       " 'kubernetes/kubernetes',\n",
       " 'nodejs/node',\n",
       " 'avelino/awesome-go',\n",
       " 'mrdoob/three.js',\n",
       " 'denoland/deno',\n",
       " 'microsoft/terminal',\n",
       " 'microsoft/TypeScript',\n",
       " 'angular/angular',\n",
       " 'goldbergyoni/nodebestpractices',\n",
       " 'ant-design/ant-design',\n",
       " 'mui/material-ui',\n",
       " 'trimstray/the-book-of-secret-knowledge',\n",
       " 'puppeteer/puppeteer',\n",
       " 'microsoft/PowerToys',\n",
       " 'yangshun/tech-interview-handbook',\n",
       " 'practical-tutorials/project-based-learning',\n",
       " 'PanJiaChen/vue-element-admin',\n",
       " 'iluwatar/java-design-patterns',\n",
       " 'animate-css/animate.css',\n",
       " 'storybookjs/storybook',\n",
       " 'tensorflow/models',\n",
       " 'nvbn/thefuck',\n",
       " 'ryanmcdermott/clean-code-javascript',\n",
       " 'rust-lang/rust',\n",
       " 'huggingface/transformers',\n",
       " 'MisterBooo/LeetCodeAnimation',\n",
       " 'Genymobile/scrcpy',\n",
       " 'laravel/laravel',\n",
       " 'FortAwesome/Font-Awesome',\n",
       " 'gothinkster/realworld',\n",
       " 'doocs/advanced-java',\n",
       " 'django/django',\n",
       " 'tonsky/FiraCode',\n",
       " 'vuejs/awesome-vue',\n",
       " 'bitcoin/bitcoin',\n",
       " 'papers-we-love/papers-we-love',\n",
       " 'opencv/opencv',\n",
       " 'moby/moby',\n",
       " 'typicode/json-server',\n",
       " 'gin-gonic/gin',\n",
       " 'spring-projects/spring-boot',\n",
       " 'mtdvio/every-programmer-should-know',\n",
       " 'gohugoio/hugo',\n",
       " 'sveltejs/svelte',\n",
       " 'thedaviddias/Front-End-Checklist',\n",
       " 'hakimel/reveal.js',\n",
       " 'webpack/webpack',\n",
       " 'nvm-sh/nvm',\n",
       " 'macrozheng/mall',\n",
       " 'elastic/elasticsearch']"
      ]
     },
     "execution_count": 58,
     "metadata": {},
     "output_type": "execute_result"
    }
   ],
   "source": [
    "list_rep = []\n",
    "\n",
    "for i in range(1,10):\n",
    "    response = requests.get('https://github.com/search?l=&p=' + str(i) + '&q=stars%3A%3E100&ref=advsearch&type=Repositories')\n",
    "    soup = BeautifulSoup(response.content, 'html.parser')\n",
    "    \n",
    "    for repo in soup.find_all('a', class_ = 'v-align-middle'):\n",
    "        list_rep.append(repo.text)\n",
    "        \n",
    "list_rep"
   ]
  },
  {
   "cell_type": "code",
   "execution_count": 59,
   "id": "e83e5ef2",
   "metadata": {},
   "outputs": [
    {
     "data": {
      "text/plain": [
       "90"
      ]
     },
     "execution_count": 59,
     "metadata": {},
     "output_type": "execute_result"
    }
   ],
   "source": [
    "len(list_rep)"
   ]
  },
  {
   "cell_type": "code",
   "execution_count": 60,
   "id": "067b7c09",
   "metadata": {},
   "outputs": [
    {
     "data": {
      "text/plain": [
       "['neovim/neovim',\n",
       " 'florinpop17/app-ideas',\n",
       " 'resume/resume.github.com',\n",
       " 'expressjs/express',\n",
       " 'atom/atom',\n",
       " 'microsoft/Web-Dev-For-Beginners',\n",
       " 'chartjs/Chart.js',\n",
       " 'kdn251/interviews',\n",
       " 'redis/redis',\n",
       " 'coder/code-server',\n",
       " 'Hack-with-Github/Awesome-Hacking',\n",
       " 'xingshaocheng/architect-awesome',\n",
       " 'adam-p/markdown-here',\n",
       " 'socketio/socket.io',\n",
       " 'jquery/jquery',\n",
       " 'iptv-org/iptv',\n",
       " 'protocolbuffers/protobuf',\n",
       " 'keras-team/keras',\n",
       " 'josephmisiti/awesome-machine-learning',\n",
       " 'h5bp/Front-end-Developer-Interview-Questions',\n",
       " 'home-assistant/core',\n",
       " 'shadowsocks/shadowsocks-windows',\n",
       " 'ansible/ansible',\n",
       " 'lodash/lodash',\n",
       " 'godotengine/godot',\n",
       " 'kelseyhightower/nocode',\n",
       " 'jaywcjlove/awesome-mac',\n",
       " 'chrislgarry/Apollo-11',\n",
       " 'gatsbyjs/gatsby',\n",
       " 'h5bp/html5-boilerplate']"
      ]
     },
     "execution_count": 60,
     "metadata": {},
     "output_type": "execute_result"
    }
   ],
   "source": [
    "list_rep2 = []\n",
    "\n",
    "for i in range(11,20):\n",
    "    response = requests.get('https://github.com/search?l=&p=' + str(i) + '&q=stars%3A%3E100&ref=advsearch&type=Repositories')\n",
    "    soup = BeautifulSoup(response.content, 'html.parser')\n",
    "    \n",
    "    for repo in soup.find_all('a', class_ = 'v-align-middle'):\n",
    "        list_rep2.append(repo.text)\n",
    "        \n",
    "list_rep2"
   ]
  },
  {
   "cell_type": "code",
   "execution_count": 61,
   "id": "a60d4067",
   "metadata": {},
   "outputs": [
    {
     "data": {
      "text/plain": [
       "30"
      ]
     },
     "execution_count": 61,
     "metadata": {},
     "output_type": "execute_result"
    }
   ],
   "source": [
    "len(list_rep2)"
   ]
  },
  {
   "cell_type": "code",
   "execution_count": 70,
   "id": "cc8f5300",
   "metadata": {},
   "outputs": [],
   "source": [
    "list_rep = []\n",
    "for i in range(1,5):\n",
    "    headers = {'User-Agent': github_username}\n",
    "    sleep(randint(2,10))\n",
    "    response = requests.get('https://github.com/search?l=&p=' + str(i) + '&q=stars%3A%3E100&ref=advsearch&type=Repositories', headers=headers)\n",
    "    soup = BeautifulSoup(response.content, 'html.parser')\n",
    "    for repo in soup.find_all('a', class_ = 'v-align-middle'):\n",
    "        list_rep.append(repo.text)\n",
    "list_rep2 = []\n",
    "for i in range(6,11):\n",
    "    headers = {'User-Agent': github_username}\n",
    "    sleep(randint(2,10))\n",
    "    response = requests.get('https://github.com/search?l=&p=' + str(i) + '&q=stars%3A%3E100&ref=advsearch&type=Repositories', headers=headers)\n",
    "    soup = BeautifulSoup(response.content, 'html.parser')\n",
    "    for repo in soup.find_all('a', class_ = 'v-align-middle'):\n",
    "        list_rep2.append(repo.text)\n",
    "full_list = list_rep + list_rep2\n",
    "REPOS = full_list"
   ]
  },
  {
   "cell_type": "code",
   "execution_count": 71,
   "id": "12f8630a",
   "metadata": {},
   "outputs": [
    {
     "data": {
      "text/plain": [
       "['freeCodeCamp/freeCodeCamp',\n",
       " '996icu/996.ICU',\n",
       " 'EbookFoundation/free-programming-books',\n",
       " 'jwasham/coding-interview-university',\n",
       " 'sindresorhus/awesome',\n",
       " 'kamranahmedse/developer-roadmap',\n",
       " 'public-apis/public-apis',\n",
       " 'donnemartin/system-design-primer',\n",
       " 'vuejs/vue',\n",
       " 'facebook/react',\n",
       " 'tensorflow/tensorflow',\n",
       " 'codecrafters-io/build-your-own-x',\n",
       " 'getify/You-Dont-Know-JS',\n",
       " 'twbs/bootstrap',\n",
       " 'CyC2018/CS-Notes',\n",
       " 'trekhleb/javascript-algorithms',\n",
       " 'ohmyzsh/ohmyzsh',\n",
       " 'TheAlgorithms/Python',\n",
       " 'flutter/flutter',\n",
       " 'vinta/awesome-python',\n",
       " 'torvalds/linux',\n",
       " 'github/gitignore',\n",
       " 'microsoft/vscode',\n",
       " 'Snailclimb/JavaGuide',\n",
       " 'airbnb/javascript',\n",
       " 'jackfrued/Python-100-Days',\n",
       " 'ossu/computer-science',\n",
       " 'ytdl-org/youtube-dl',\n",
       " 'jlevy/the-art-of-command-line',\n",
       " 'labuladong/fucking-algorithm',\n",
       " 'awesome-selfhosted/awesome-selfhosted',\n",
       " 'facebook/react-native',\n",
       " 'golang/go',\n",
       " 'electron/electron',\n",
       " '30-seconds/30-seconds-of-code',\n",
       " 'd3/d3',\n",
       " 'facebook/create-react-app',\n",
       " 'axios/axios',\n",
       " 'justjavac/free-programming-books-zh_CN',\n",
       " 'vercel/next.js']"
      ]
     },
     "execution_count": 71,
     "metadata": {},
     "output_type": "execute_result"
    }
   ],
   "source": [
    "REPOS"
   ]
  },
  {
   "cell_type": "code",
   "execution_count": 72,
   "id": "9f572dcd",
   "metadata": {},
   "outputs": [
    {
     "data": {
      "text/plain": [
       "40"
      ]
     },
     "execution_count": 72,
     "metadata": {},
     "output_type": "execute_result"
    }
   ],
   "source": [
    "len(REPOS)"
   ]
  },
  {
   "cell_type": "code",
   "execution_count": null,
   "id": "50859818",
   "metadata": {},
   "outputs": [],
   "source": []
  }
 ],
 "metadata": {
  "kernelspec": {
   "display_name": "Python 3 (ipykernel)",
   "language": "python",
   "name": "python3"
  },
  "language_info": {
   "codemirror_mode": {
    "name": "ipython",
    "version": 3
   },
   "file_extension": ".py",
   "mimetype": "text/x-python",
   "name": "python",
   "nbconvert_exporter": "python",
   "pygments_lexer": "ipython3",
   "version": "3.9.12"
  }
 },
 "nbformat": 4,
 "nbformat_minor": 5
}
